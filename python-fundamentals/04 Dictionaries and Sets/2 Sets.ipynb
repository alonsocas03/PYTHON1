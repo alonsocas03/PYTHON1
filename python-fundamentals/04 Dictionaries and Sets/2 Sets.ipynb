{
  "cells": [
    {
      "cell_type": "markdown",
      "metadata": {
        "id": "VhgVoMmV5ppB"
      },
      "source": [
        "## 2. Sets\n",
        "\n",
        "El **conjunto** (set) es otra estructura de datos de Python. Se declara también con llaves `{}`, de la siguiente manera:\n",
        "\n",
        "```python\n",
        "\n",
        "set = {element1, element2, element3, element4}\n",
        "\n",
        "```\n",
        "\n",
        "La particularidad de esta estructura de datos, es que sus elementos cumplirán dos propiedades:\n",
        "\n",
        "1. Se encuentran ordenados de menor o mayor\n",
        "2. No existen duplicados\n"
      ]
    },
    {
      "cell_type": "code",
      "execution_count": 2,
      "metadata": {
        "id": "ku2NXeGU5ppG",
        "outputId": "b58c3790-c494-4459-9f64-a35d8454fb74",
        "colab": {
          "base_uri": "https://localhost:8080/"
        }
      },
      "outputs": [
        {
          "output_type": "stream",
          "name": "stdout",
          "text": [
            "{0, 3, 4, 5, 7, 9, 10, 15}\n",
            "[4, 0, 15, 0, 10, 10, 10, 7, 5, 0, 3, 9, 7]\n"
          ]
        }
      ],
      "source": [
        "# Los elementos están en cualquier orden y existen elementos duplicados\n",
        "s = {4, 0, 15, 0, 10, 10, 10, 7, 5, 0, 3, 9, 7}\n",
        "\n",
        "# Una vez declarado el conjunto, los ordenará y eliminará duplicados\n",
        "\n",
        "print(s)\n",
        "\n",
        "# En cambio las listas\n",
        "l = [4, 0, 15, 0, 10, 10, 10, 7, 5, 0, 3, 9, 7]\n",
        "\n",
        "# Mantienen los duplicados y puede haber repetidos\n",
        "\n",
        "print(l)"
      ]
    },
    {
      "cell_type": "markdown",
      "metadata": {
        "id": "8-azCe-t5ppJ"
      },
      "source": [
        "También, podemos añadir elementos al conjunto, y se seguirán cumpliendo las dos propiedades mencionadas:"
      ]
    },
    {
      "cell_type": "code",
      "execution_count": null,
      "metadata": {
        "id": "xp19YbV15ppK",
        "outputId": "706ef98d-838d-4be9-984d-d20dbbfeabc2"
      },
      "outputs": [
        {
          "data": {
            "text/plain": [
              "{0, 3, 4, 5, 6, 7, 9, 10, 15}"
            ]
          },
          "execution_count": 2,
          "metadata": {},
          "output_type": "execute_result"
        }
      ],
      "source": [
        "# Añadimos '6' al conjunto\n",
        "s.add(6)\n",
        "\n",
        "# Vemos que sus elementos siguen ordenados\n",
        "s"
      ]
    },
    {
      "cell_type": "markdown",
      "metadata": {
        "id": "HaOZaydg5ppL"
      },
      "source": [
        "Si añadimos un elemento duplicado, será ignorado:"
      ]
    },
    {
      "cell_type": "code",
      "execution_count": null,
      "metadata": {
        "id": "k87hvQDG5ppL",
        "outputId": "8a0f34e3-1ded-4310-fe3a-346e70b92bb7"
      },
      "outputs": [
        {
          "data": {
            "text/plain": [
              "{0, 3, 4, 5, 6, 7, 9, 10, 15}"
            ]
          },
          "execution_count": 3,
          "metadata": {},
          "output_type": "execute_result"
        }
      ],
      "source": [
        "s.add(7)\n",
        "s"
      ]
    },
    {
      "cell_type": "markdown",
      "metadata": {
        "id": "i0Cy26-s5ppM"
      },
      "source": [
        "Podemos verificar si un elemento se encuentra en un conjunto con la sentencia `in`:"
      ]
    },
    {
      "cell_type": "code",
      "execution_count": null,
      "metadata": {
        "id": "R9kRMcU35ppM",
        "outputId": "6a99723e-d94e-42a9-e068-4ec04e07d16d"
      },
      "outputs": [
        {
          "data": {
            "text/plain": [
              "True"
            ]
          },
          "execution_count": 4,
          "metadata": {},
          "output_type": "execute_result"
        }
      ],
      "source": [
        "0 in s"
      ]
    },
    {
      "cell_type": "code",
      "execution_count": null,
      "metadata": {
        "id": "jW9Awp0Q5ppM",
        "outputId": "79bd5e96-d58c-46ce-e81e-7d7cf945146a"
      },
      "outputs": [
        {
          "data": {
            "text/plain": [
              "False"
            ]
          },
          "execution_count": 5,
          "metadata": {},
          "output_type": "execute_result"
        }
      ],
      "source": [
        "100 in s"
      ]
    },
    {
      "cell_type": "markdown",
      "metadata": {
        "id": "0mLBJ9eI5ppN"
      },
      "source": [
        "Existen dos maneras de eliminar un elemento de un conjunto, usando el método `.remove()` y `.discard()`. La diferencia entre ambos, es que si el elemento a eliminar no existe, el método `.remove()` generará un error, mientras que el método `.discard()` ignorará la acción."
      ]
    },
    {
      "cell_type": "code",
      "execution_count": null,
      "metadata": {
        "id": "22N3XyRa5ppN",
        "outputId": "4489c0e8-b142-4041-9815-be6d298866e2"
      },
      "outputs": [
        {
          "data": {
            "text/plain": [
              "{0, 3, 4, 5, 6, 7, 9, 15}"
            ]
          },
          "execution_count": 6,
          "metadata": {},
          "output_type": "execute_result"
        }
      ],
      "source": [
        "s.remove(10)\n",
        "s"
      ]
    },
    {
      "cell_type": "code",
      "execution_count": null,
      "metadata": {
        "id": "NEBLMPLZ5ppN",
        "outputId": "6ed8bbaf-1430-476e-9818-01ef935743f8"
      },
      "outputs": [
        {
          "data": {
            "text/plain": [
              "{0, 3, 5, 6, 7, 9, 15}"
            ]
          },
          "execution_count": 7,
          "metadata": {},
          "output_type": "execute_result"
        }
      ],
      "source": [
        "s.discard(4)\n",
        "s"
      ]
    },
    {
      "cell_type": "code",
      "execution_count": null,
      "metadata": {
        "id": "B11jnpLy5ppO",
        "outputId": "d20f9d31-4f1e-4148-dbe5-b1ff8c64d992"
      },
      "outputs": [
        {
          "ename": "KeyError",
          "evalue": "11",
          "output_type": "error",
          "traceback": [
            "\u001b[0;31m---------------------------------------------------------------------------\u001b[0m",
            "\u001b[0;31mKeyError\u001b[0m                                  Traceback (most recent call last)",
            "Cell \u001b[0;32mIn[8], line 3\u001b[0m\n\u001b[1;32m      1\u001b[0m \u001b[38;5;66;03m# 11 no existe en el conjunto\u001b[39;00m\n\u001b[1;32m      2\u001b[0m \u001b[38;5;66;03m# .remove() generará un error\u001b[39;00m\n\u001b[0;32m----> 3\u001b[0m \u001b[43ms\u001b[49m\u001b[38;5;241;43m.\u001b[39;49m\u001b[43mremove\u001b[49m\u001b[43m(\u001b[49m\u001b[38;5;241;43m11\u001b[39;49m\u001b[43m)\u001b[49m\n\u001b[1;32m      4\u001b[0m s\n",
            "\u001b[0;31mKeyError\u001b[0m: 11"
          ]
        }
      ],
      "source": [
        "# 11 no existe en el conjunto\n",
        "# .remove() generará un error\n",
        "s.remove(11)\n",
        "s"
      ]
    },
    {
      "cell_type": "code",
      "execution_count": null,
      "metadata": {
        "id": "GQh64Wdq5ppO",
        "outputId": "a31fe22f-7dbb-43ac-97b6-a7bc366b0117"
      },
      "outputs": [
        {
          "data": {
            "text/plain": [
              "{0, 3, 5, 6, 7, 9, 15}"
            ]
          },
          "execution_count": 9,
          "metadata": {},
          "output_type": "execute_result"
        }
      ],
      "source": [
        "# 11 no existe en el conjunto\n",
        "# .discard() simplemente ignora la acción, y seguirá con la ejecución\n",
        "s.discard(11)\n",
        "s"
      ]
    },
    {
      "cell_type": "markdown",
      "metadata": {
        "id": "0NNz8WIv5ppP"
      },
      "source": [
        "No podemos acceder a los elementos por índice en los conjuntos como si se pueden hacer en las listas, nos generará un error:"
      ]
    },
    {
      "cell_type": "code",
      "execution_count": null,
      "metadata": {
        "id": "F_ClfqsX5ppP",
        "outputId": "f2accaf8-588e-4951-a165-8b95e7f38ef0"
      },
      "outputs": [
        {
          "ename": "TypeError",
          "evalue": "'set' object is not subscriptable",
          "output_type": "error",
          "traceback": [
            "\u001b[0;31m---------------------------------------------------------------------------\u001b[0m",
            "\u001b[0;31mTypeError\u001b[0m                                 Traceback (most recent call last)",
            "Cell \u001b[0;32mIn[10], line 1\u001b[0m\n\u001b[0;32m----> 1\u001b[0m \u001b[43ms\u001b[49m\u001b[43m[\u001b[49m\u001b[38;5;241;43m0\u001b[39;49m\u001b[43m]\u001b[49m\n",
            "\u001b[0;31mTypeError\u001b[0m: 'set' object is not subscriptable"
          ]
        }
      ],
      "source": [
        "s[0]"
      ]
    },
    {
      "cell_type": "markdown",
      "metadata": {
        "id": "QVgvnCNF5ppR"
      },
      "source": [
        "Pero, los conjuntos son objetos iterables, de esa manera podemos acceder a sus elementos:"
      ]
    },
    {
      "cell_type": "code",
      "execution_count": null,
      "metadata": {
        "id": "PKoc144j5ppS",
        "outputId": "8fef7dd5-08f7-4346-cff6-8e9f109640dc"
      },
      "outputs": [
        {
          "name": "stdout",
          "output_type": "stream",
          "text": [
            "0\n",
            "3\n",
            "5\n",
            "6\n",
            "7\n",
            "9\n",
            "15\n"
          ]
        }
      ],
      "source": [
        "for element in s:\n",
        "    print(element)"
      ]
    },
    {
      "cell_type": "markdown",
      "metadata": {
        "id": "jOV8Itxe5ppS"
      },
      "source": [
        "Si queremos acceder a sus elementos por índice, podemos **convertir el conjunto en una lista**:"
      ]
    },
    {
      "cell_type": "code",
      "execution_count": null,
      "metadata": {
        "id": "LBGquyGe5ppS",
        "outputId": "267cf672-c129-4195-c097-e44f5199cbbf"
      },
      "outputs": [
        {
          "data": {
            "text/plain": [
              "[0, 3, 5, 6, 7, 9, 15]"
            ]
          },
          "execution_count": 12,
          "metadata": {},
          "output_type": "execute_result"
        }
      ],
      "source": [
        "my_list = list(s)\n",
        "my_list"
      ]
    },
    {
      "cell_type": "code",
      "execution_count": null,
      "metadata": {
        "id": "hyNVFjrZ5ppS",
        "outputId": "2db2c12b-ce5f-45ea-adec-d7f0eb1f602f"
      },
      "outputs": [
        {
          "data": {
            "text/plain": [
              "0"
            ]
          },
          "execution_count": 13,
          "metadata": {},
          "output_type": "execute_result"
        }
      ],
      "source": [
        "my_list[0]"
      ]
    },
    {
      "cell_type": "code",
      "execution_count": null,
      "metadata": {
        "id": "3H7_vpzO5ppS",
        "outputId": "a8f77a85-7f01-4214-8d4c-147183d4cee9"
      },
      "outputs": [
        {
          "data": {
            "text/plain": [
              "6"
            ]
          },
          "execution_count": 14,
          "metadata": {},
          "output_type": "execute_result"
        }
      ],
      "source": [
        "my_list[3]"
      ]
    },
    {
      "cell_type": "markdown",
      "metadata": {
        "id": "rSn45N6R5ppT"
      },
      "source": [
        "Los conjuntos serán útiles, cuando requiramos una estructura que *eliminar elementos duplicados*. Por ejemplo, si tenemos una lista y queremos eliminar sus duplicados, podemos convertirlo en un conjunto y luego en una lista:"
      ]
    },
    {
      "cell_type": "code",
      "execution_count": null,
      "metadata": {
        "id": "bmtlrgJ_5ppT",
        "outputId": "3a2823c3-ee42-4c09-c861-9ee12b9df712"
      },
      "outputs": [
        {
          "data": {
            "text/plain": [
              "['Vanesa', 'Mario', 'Denis', 'Marco', 'Julio', 'Rosa']"
            ]
          },
          "execution_count": 15,
          "metadata": {},
          "output_type": "execute_result"
        }
      ],
      "source": [
        "name_list = ['Mario', 'Denis', 'Marco', 'Marco', 'Rosa', 'Denis', 'Julio', 'Denis', 'Vanesa']\n",
        "\n",
        "name_list = list(set(name_list))\n",
        "\n",
        "# Nota que los elementos no se encuentran ordenados\n",
        "# al convertir de 'set' a 'list' obtendremos cualquier orden\n",
        "name_list"
      ]
    }
  ],
  "metadata": {
    "kernelspec": {
      "display_name": "Python 3 (ipykernel)",
      "language": "python",
      "name": "python3"
    },
    "language_info": {
      "codemirror_mode": {
        "name": "ipython",
        "version": 3
      },
      "file_extension": ".py",
      "mimetype": "text/x-python",
      "name": "python",
      "nbconvert_exporter": "python",
      "pygments_lexer": "ipython3",
      "version": "3.11.7"
    },
    "colab": {
      "provenance": []
    }
  },
  "nbformat": 4,
  "nbformat_minor": 0
}