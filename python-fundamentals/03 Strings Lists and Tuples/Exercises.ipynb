{
  "cells": [
    {
      "cell_type": "markdown",
      "metadata": {
        "id": "tpoLf5N0Q5_E"
      },
      "source": [
        "# Strings"
      ]
    },
    {
      "cell_type": "markdown",
      "metadata": {
        "id": "5Orz9ZKwQ5_H"
      },
      "source": [
        "1. Existen distintos métodos de encriptación de mensajes, ahora veremos en qué consiste el cifrado César. El cifrado César consiste en un mensaje (cadena) y una llave (valor numérico) `k`. A cada letra del mensaje la desplazamos `k` posiciones en el abecedario de manera circular. Es decir, si `k = 3`:\n",
        "\n",
        "    <center>\n",
        "\n",
        "    A $\\rightarrow$ D\n",
        "\n",
        "    B $\\rightarrow$ E\n",
        "\n",
        "    W $\\rightarrow$ Z\n",
        "\n",
        "    X $\\rightarrow$ A\n",
        "\n",
        "    Y $\\rightarrow$ B\n",
        "\n",
        "    </center>\n",
        "\n",
        "    Dado un mensaje y una llave, genere el mensaje encriptado mediante el cifrado César. Solo desplazar a las letras en el abecedario (ya sea minúscula o mayúscula), los demás caracteres quedan sin modificaciones."
      ]
    },
    {
      "cell_type": "code",
      "execution_count": 1,
      "metadata": {
        "colab": {
          "base_uri": "https://localhost:8080/"
        },
        "id": "6Swc78GYQ5_J",
        "outputId": "ce35aad7-0e82-4c88-f99c-f91d69955cb5"
      },
      "outputs": [
        {
          "output_type": "stream",
          "name": "stdout",
          "text": [
            "Hrod, ¿frpr wh hqfxhqwudv? Yr hvwrb pxb elhq.\n"
          ]
        }
      ],
      "source": [
        "message = 'Hola, ¿como te encuentras? Yo estoy muy bien.'\n",
        "k = 3\n",
        "\n",
        "# Código\n",
        "\n",
        "m_encrypted = ''\n",
        "for c in message:\n",
        "  if ord('a') <= ord(c) <= ord('z'):\n",
        "    m_encrypted += chr((((ord(c) - ord('a')) + k) % 26) + ord('a'))\n",
        "  elif ord('a') <= ord(c) <= ord('z'):\n",
        "    m_encrypted += chr((((ord(c) - ord('a')) + k) % 26) + ord('a'))\n",
        "  else:\n",
        "    m_encrypted += c\n",
        "print(m_encrypted)"
      ]
    },
    {
      "cell_type": "code",
      "source": [
        "# Otra opción de código\n",
        "# c.isalpha() arroja True cuando lo elementos son caracteres alfabéticos\n",
        "# c.islower() arroja True cuando lo elementos son caracteres alfabéticos minúsculas´´\n",
        "# c.isupper() arroja True cuando lo elementos son caracteres alfabéticos mayúsculas\n",
        "\n",
        "m_encrypted = ''\n",
        "for c in message:\n",
        "  if c.islower():\n",
        "    code = ((ord(c) - ord('a')) + k)\n",
        "    m_encrypted += chr((code % 26) + ord('a'))\n",
        "  elif ord('a') <= ord(c) <= ord('z'):\n",
        "    m_encrypted += chr((((ord(c) - ord('a')) + k) % 26) + ord('a'))\n",
        "  else:\n",
        "    m_encrypted += c\n",
        "print(m_encrypted)"
      ],
      "metadata": {
        "colab": {
          "base_uri": "https://localhost:8080/"
        },
        "id": "utWifubwnGjl",
        "outputId": "79377a4d-438e-4103-81e3-7121eb9eaadd"
      },
      "execution_count": 2,
      "outputs": [
        {
          "output_type": "stream",
          "name": "stdout",
          "text": [
            "Hrod, ¿frpr wh hqfxhqwudv? Yr hvwrb pxb elhq.\n"
          ]
        }
      ]
    },
    {
      "cell_type": "markdown",
      "metadata": {
        "id": "nz9hHJCDQ5_K"
      },
      "source": [
        "2. Dado una frase (solo consiste de letras y espacios), determine la cantidad de palabras:"
      ]
    },
    {
      "cell_type": "code",
      "execution_count": 1,
      "metadata": {
        "colab": {
          "base_uri": "https://localhost:8080/"
        },
        "id": "KvwY06r9Q5_K",
        "outputId": "ed6889b8-8e80-448a-b528-e831f7026376"
      },
      "outputs": [
        {
          "output_type": "stream",
          "name": "stdout",
          "text": [
            "['Esta', 'frase', 'contiene', 'seis', 'palabras']\n"
          ]
        },
        {
          "output_type": "execute_result",
          "data": {
            "text/plain": [
              "5"
            ]
          },
          "metadata": {},
          "execution_count": 1
        }
      ],
      "source": [
        "message = 'Esta frase contiene seis palabras'\n",
        "\n",
        "# Código\n",
        "\n",
        "#message.split() ya convierte el message en una lista, separando las palabras usando como separador al espacio\n",
        "#len() nos permite hacer el conteo de los elementos de la lista\n",
        "\n",
        "message = \"Esta frase contiene seis palabras\"\n",
        "words = message.split()\n",
        "print(words)\n",
        "len(words)"
      ]
    },
    {
      "cell_type": "markdown",
      "metadata": {
        "id": "jUUBorDuQ5_L"
      },
      "source": [
        "# Listas"
      ]
    },
    {
      "cell_type": "markdown",
      "metadata": {
        "id": "MppISXoqQ5_L"
      },
      "source": [
        "1. Dada una lista de números, filtra todos los elementos que sean primos. Es decir, elimina todos los elementos *no primos* de la lista."
      ]
    },
    {
      "cell_type": "code",
      "execution_count": 6,
      "metadata": {
        "colab": {
          "base_uri": "https://localhost:8080/"
        },
        "id": "8vfVf3C6Q5_L",
        "outputId": "946d62e5-09f1-4e04-b4a5-281da68ac6b1"
      },
      "outputs": [
        {
          "output_type": "stream",
          "name": "stdout",
          "text": [
            "2 es primo\n",
            "10 no es primo\n",
            "12 no es primo\n",
            "91 no es primo\n",
            "101 es primo\n",
            "31 es primo\n",
            "12 no es primo\n",
            "12 no es primo\n"
          ]
        }
      ],
      "source": [
        "number_list = [2, 10, 12, 91, 101, 31, 12, 12]\n",
        "\n",
        "# Código\n",
        "\n",
        "for n in number_list:\n",
        "  is_prime = True\n",
        "  divisor = 2\n",
        "  while(divisor ** 2 <= n):\n",
        "    if n % divisor == 0:\n",
        "      is_prime = False\n",
        "      break\n",
        "    divisor += 1\n",
        "\n",
        "  if is_prime:\n",
        "    print(str(n) + \" es primo\")\n",
        "  else:\n",
        "    print(str(n) + \" no es primo\")"
      ]
    },
    {
      "cell_type": "markdown",
      "metadata": {
        "id": "GjMRcI2eQ5_M"
      },
      "source": [
        "2. Dada dos listas $A$ y $B$, genera una lista con la unión de ambas listas $A\\cup B$."
      ]
    },
    {
      "cell_type": "code",
      "execution_count": 7,
      "metadata": {
        "colab": {
          "base_uri": "https://localhost:8080/"
        },
        "id": "E2Ef26RhQ5_M",
        "outputId": "d73ecbbd-88c0-4741-c911-39290145738c"
      },
      "outputs": [
        {
          "output_type": "stream",
          "name": "stdout",
          "text": [
            "[2, 5, 10, 11, 13, 7, 99, 10, 45, 12, 2]\n"
          ]
        }
      ],
      "source": [
        "A = [2, 5, 10, 11, 13, 7]\n",
        "B = [99, 10, 45, 12, 2]\n",
        "\n",
        "# Código\n",
        "\n",
        "list = A + B\n",
        "print(list)"
      ]
    },
    {
      "cell_type": "markdown",
      "metadata": {
        "id": "dk21fIlBQ5_M"
      },
      "source": [
        "3. Dada una lista de cadenas, filtrar todas las cadenas que empiezan con alguna vocal."
      ]
    },
    {
      "cell_type": "code",
      "execution_count": 16,
      "metadata": {
        "colab": {
          "base_uri": "https://localhost:8080/"
        },
        "id": "zWPf2XJeQ5_M",
        "outputId": "9c2d82fb-692a-4e90-e4e0-e77be14f9657"
      },
      "outputs": [
        {
          "output_type": "stream",
          "name": "stdout",
          "text": [
            "['windows', 'mouse', 'kiwi', 'umbrella']\n"
          ]
        }
      ],
      "source": [
        "word_list = ['apple', 'windows', 'mouse', 'orange', 'kiwi', 'elephant', 'umbrella']\n",
        "\n",
        "# Código\n",
        "vocal = \"aeiou\"\n",
        "\n",
        "for word in word_list:\n",
        "  if word[0] in vocal:\n",
        "    word_list.remove(word)\n",
        "  else:\n",
        "    continue\n",
        "print(word_list)\n"
      ]
    },
    {
      "cell_type": "markdown",
      "metadata": {
        "id": "0rVFpytIQ5_M"
      },
      "source": [
        "# Listas anidadas"
      ]
    },
    {
      "cell_type": "markdown",
      "metadata": {
        "id": "APIkrm7sQ5_N"
      },
      "source": [
        "1. Dada una matriz cuadrada $A$ y un número $n$, calcule $A^n$:"
      ]
    },
    {
      "cell_type": "code",
      "execution_count": null,
      "metadata": {
        "id": "Isc6D5FSQ5_N"
      },
      "outputs": [],
      "source": [
        "A = [[1, -1, 5],\n",
        "     [3, 2, 7],\n",
        "     [-11, 5, 10]]\n",
        "\n",
        "n = 5\n",
        "\n",
        "# Código\n",
        "\n"
      ]
    },
    {
      "cell_type": "markdown",
      "metadata": {
        "id": "WNPvJBYBQ5_N"
      },
      "source": [
        "2. Dada una matriz, genere su matriz transpuesta:"
      ]
    },
    {
      "cell_type": "code",
      "execution_count": null,
      "metadata": {
        "id": "V6rAwrOKQ5_N"
      },
      "outputs": [],
      "source": [
        "matrix = [[1, 2, 3, 4, 5],\n",
        "          [6, 7, 8, 9, 10],\n",
        "          [11, 12, 13, 14, 15]]\n",
        "\n",
        "# Código\n"
      ]
    },
    {
      "cell_type": "markdown",
      "metadata": {
        "id": "PZBmknDCQ5_N"
      },
      "source": [
        "2. Dado $n$, genere una lista con las $n$ primeras filas del triángulo de pascal:\n",
        "\n",
        "    ```python\n",
        "    # n = 1\n",
        "    pascal = [[1]]\n",
        "    \n",
        "    # n = 2\n",
        "    pascal = [[1],\n",
        "              [1, 1]]\n",
        "    \n",
        "    # n = 3\n",
        "    pascal = [[1],\n",
        "              [1, 1],\n",
        "              [1, 2, 1]]\n",
        "    \n",
        "    # n = 6\n",
        "    pascal = [[1],\n",
        "              [1, 1],\n",
        "              [1, 2, 1],\n",
        "              [1, 3, 3, 1],\n",
        "              [1, 4, 6, 4, 1],\n",
        "              [1, 5, 10, 10, 5, 1]]\n",
        "    ```"
      ]
    },
    {
      "cell_type": "code",
      "execution_count": null,
      "metadata": {
        "id": "2uyChrz3Q5_N"
      },
      "outputs": [],
      "source": [
        "n = 6\n",
        "\n",
        "# Código"
      ]
    }
  ],
  "metadata": {
    "language_info": {
      "name": "python"
    },
    "colab": {
      "provenance": []
    },
    "kernelspec": {
      "name": "python3",
      "display_name": "Python 3"
    }
  },
  "nbformat": 4,
  "nbformat_minor": 0
}