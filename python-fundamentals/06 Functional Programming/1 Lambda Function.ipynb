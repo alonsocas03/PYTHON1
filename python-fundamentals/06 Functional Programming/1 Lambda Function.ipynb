{
  "cells": [
    {
      "cell_type": "markdown",
      "metadata": {
        "id": "3JtXSrP-OfBC"
      },
      "source": [
        "## 1. Funciones lambda\n",
        "\n",
        "Las funciones lambda son funciones anónimas pequeñas que pueden tener cualquier número de parámetros, pero solo pueden tener una expresión.\n",
        "\n",
        "### Sintaxis de la función lambda\n",
        "\n",
        "```python\n",
        "\n",
        "function_name = lambda parameter1, parameter2, parameter3 : expression\n",
        "\n",
        "```\n",
        "\n",
        "Veamos algunos ejemplos:"
      ]
    },
    {
      "cell_type": "code",
      "execution_count": null,
      "metadata": {
        "id": "Usg9H1KlOfBF",
        "outputId": "21ce54e1-827f-443e-ee90-f6d6cf71c067"
      },
      "outputs": [
        {
          "data": {
            "text/plain": [
              "243"
            ]
          },
          "execution_count": 1,
          "metadata": {},
          "output_type": "execute_result"
        }
      ],
      "source": [
        "exponentation = lambda x, y : x ** y\n",
        "exponentation(3, 5)"
      ]
    },
    {
      "cell_type": "code",
      "execution_count": null,
      "metadata": {
        "id": "6J2XmnKSOfBI",
        "outputId": "aff3934f-be22-44e0-a613-1ab09186d4a9"
      },
      "outputs": [
        {
          "data": {
            "text/plain": [
              "12.566370614359172"
            ]
          },
          "execution_count": 2,
          "metadata": {},
          "output_type": "execute_result"
        }
      ],
      "source": [
        "from math import pi\n",
        "\n",
        "area_circle = lambda radius : (radius ** 2) * pi\n",
        "area_circle(2)"
      ]
    },
    {
      "cell_type": "code",
      "execution_count": null,
      "metadata": {
        "id": "fr-uz7aZOfBJ",
        "outputId": "47b7a6b9-59a1-49c9-9f7a-314fb3b24d3d"
      },
      "outputs": [
        {
          "data": {
            "text/plain": [
              "3.8971143170299736"
            ]
          },
          "execution_count": 3,
          "metadata": {},
          "output_type": "execute_result"
        }
      ],
      "source": [
        "area_equilateral_triangle = lambda side : (3 ** 0.5) / 4 * (side ** 2)\n",
        "area_equilateral_triangle(3)"
      ]
    },
    {
      "cell_type": "code",
      "source": [
        "n = int(input(\"Ingrese el número de cursos que llevó este ciclo: \"))\n",
        "for i in range(n):\n",
        "  a = float(input(\"Ingrese la nota final del curso: \"))\n",
        "  b = int(input(\"Ingrese el número de créditos del curso: \"))\n",
        "\n",
        "prom_final = a * b\n",
        "prom_final += prom_final\n",
        "\n",
        "num_cred = b\n",
        "num_cred += num_cred\n",
        "\n",
        "prom_ponderado = prom_final / num_cred\n",
        "print('Su promedio ponderado es ' + str(prom_ponderado))"
      ],
      "metadata": {
        "id": "p0u3jYaJO5ht",
        "outputId": "89e17b3c-8faf-40b6-a671-ae7afd2f6819",
        "colab": {
          "base_uri": "https://localhost:8080/"
        }
      },
      "execution_count": 7,
      "outputs": [
        {
          "output_type": "stream",
          "name": "stdout",
          "text": [
            "Ingrese el número de cursos que llevó este ciclo: 3\n",
            "Ingrese la nota final del curso: 20\n",
            "Ingrese el número de créditos del curso: 4\n",
            "Ingrese la nota final del curso: 18\n",
            "Ingrese el número de créditos del curso: 3\n",
            "Ingrese la nota final del curso: 17\n",
            "Ingrese el número de créditos del curso: 3\n",
            "Su promedio ponderado es17.0\n"
          ]
        }
      ]
    }
  ],
  "metadata": {
    "kernelspec": {
      "display_name": "Python 3 (ipykernel)",
      "language": "python",
      "name": "python3"
    },
    "language_info": {
      "codemirror_mode": {
        "name": "ipython",
        "version": 3
      },
      "file_extension": ".py",
      "mimetype": "text/x-python",
      "name": "python",
      "nbconvert_exporter": "python",
      "pygments_lexer": "ipython3",
      "version": "3.11.7"
    },
    "colab": {
      "provenance": []
    }
  },
  "nbformat": 4,
  "nbformat_minor": 0
}