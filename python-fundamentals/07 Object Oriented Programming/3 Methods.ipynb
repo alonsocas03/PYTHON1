{
  "cells": [
    {
      "cell_type": "markdown",
      "metadata": {
        "id": "HNfoXCiEB45R"
      },
      "source": [
        "# Métodos\n",
        "\n",
        "Los métodos definen el **comportamiento** de una clase. De igual manera que los atributos, existen distintos tipos de métodos\n",
        "\n",
        "## 1. Métodos de instancia\n",
        "\n",
        "Es un método que contiene el parámetro `self`. Este parámetro referencia a una instancia de la clase cuando el método es llamado. Podemos acceder a los atributos y otros métodos del mismo objeto con ayuda de `self` (recordar que el acceso a los atributos de una instancia, dependerá si se encuentra en el namespace de la instancia o la clase)."
      ]
    },
    {
      "cell_type": "code",
      "execution_count": null,
      "metadata": {
        "id": "F9PiKrRoB45T"
      },
      "outputs": [],
      "source": [
        "class Coordinates:\n",
        "    def __init__(self, x, y):\n",
        "        self.x = x\n",
        "        self.y = y\n",
        "\n",
        "\n",
        "    # Mueve las coordenadas actuales según los parámetros dados\n",
        "    def move(self, dx, dy):\n",
        "        self.x += dx\n",
        "        self.y += dy\n",
        "\n",
        "    # Muestro la posición actual\n",
        "    def show_position(self):\n",
        "        print('Posición actual: [X = ' + str(self.x) + ', Y = ' + str(self.y) + ']')\n",
        "\n",
        "    # Emito una alerta de peligro\n",
        "    def warning(self):\n",
        "        print('¡Estoy en zona peligrosa!')\n",
        "\n",
        "        # Podemos acceder a métodos de la clase\n",
        "        self.show_position()\n",
        "\n",
        "    # Emito una alerta de tesoro\n",
        "    def treasure(self):\n",
        "        print('¡Encontré un tesoro!')\n",
        "        self.show_position()\n"
      ]
    },
    {
      "cell_type": "code",
      "execution_count": null,
      "metadata": {
        "id": "A-bitdY5B45V",
        "outputId": "6edb1f9c-08d0-454f-d379-91986ac5d77c"
      },
      "outputs": [
        {
          "name": "stdout",
          "output_type": "stream",
          "text": [
            "Posición actual: [X = 3, Y = 5]\n"
          ]
        }
      ],
      "source": [
        "coordinates = Coordinates(3, 5)\n",
        "coordinates.show_position()"
      ]
    },
    {
      "cell_type": "code",
      "execution_count": null,
      "metadata": {
        "id": "dFN3vyBHB45W",
        "outputId": "93f37e40-4035-433e-b6b5-9b9d1ca374b1"
      },
      "outputs": [
        {
          "name": "stdout",
          "output_type": "stream",
          "text": [
            "¡Encontré un tesoro!\n",
            "Posición actual: [X = 7, Y = -5]\n"
          ]
        }
      ],
      "source": [
        "coordinates.move(4, -10)\n",
        "coordinates.treasure()"
      ]
    },
    {
      "cell_type": "code",
      "execution_count": null,
      "metadata": {
        "id": "x_mWbIuyB45X",
        "outputId": "96cfa5bd-9c94-4f89-a2d0-f867d2b7112e"
      },
      "outputs": [
        {
          "name": "stdout",
          "output_type": "stream",
          "text": [
            "¡Estoy en zona peligrosa!\n",
            "Posición actual: [X = -13, Y = 10]\n"
          ]
        }
      ],
      "source": [
        "coordinates.move(-20, 15)\n",
        "coordinates.warning()"
      ]
    },
    {
      "cell_type": "markdown",
      "metadata": {
        "id": "kfbUdsPHB45X"
      },
      "source": [
        "**NOTA:** El parámetro `self` tiene ese nombre por convensión, no es obligatorio que lo lleve. Podemos escoger cualquier otro, mientras siga siendo el primer parámetro del método."
      ]
    },
    {
      "cell_type": "code",
      "execution_count": null,
      "metadata": {
        "id": "3sQJa60sB45X"
      },
      "outputs": [],
      "source": [
        "class Person:\n",
        "    def __init__(self, name, age):\n",
        "        self.name = name\n",
        "        self.age = age\n",
        "\n",
        "    # 'no_self' apunta a la instancia dentro de este método\n",
        "    def greet(no_self):\n",
        "        print('Hola, soy ' + str(no_self.name) + ' y tengo ' + str(no_self.age) + ' años.')\n",
        "\n",
        "    # 'qwerty' apunta a la instancia dentro de este método\n",
        "    def set_age(qwerty, new_age):\n",
        "        qwerty.age = new_age"
      ]
    },
    {
      "cell_type": "code",
      "execution_count": null,
      "metadata": {
        "id": "Ktbyk8sSB45Y",
        "outputId": "30b029be-f7c1-46bc-dda4-a7c58da9bc8a"
      },
      "outputs": [
        {
          "name": "stdout",
          "output_type": "stream",
          "text": [
            "Hola, soy Marco y tengo 40 años.\n"
          ]
        }
      ],
      "source": [
        "person = Person('Marco', 40)\n",
        "person.greet()"
      ]
    },
    {
      "cell_type": "code",
      "execution_count": null,
      "metadata": {
        "id": "JO5_nxexB45Y",
        "outputId": "b2f90d78-c41f-4907-a55c-45c943575ab3"
      },
      "outputs": [
        {
          "name": "stdout",
          "output_type": "stream",
          "text": [
            "Hola, soy Marco y tengo 55 años.\n"
          ]
        }
      ],
      "source": [
        "person.set_age(55)\n",
        "person.greet()"
      ]
    },
    {
      "cell_type": "markdown",
      "metadata": {
        "id": "z61s45UdB45Y"
      },
      "source": [
        "## 2. Métodos de clase\n",
        "\n",
        "Los métodos de clase toman como parámetro a `cls` (al igual que `self`, podemos cambiar de nombre a este parámetro) que referencia a la clase (no a una instancia de esta) cuando el método es llamado. No podemos modificar atributos de la instancia, pero podemos acceder y modificar a atributos de clase."
      ]
    },
    {
      "cell_type": "code",
      "execution_count": null,
      "metadata": {
        "id": "ySr7Nrh2B45Y"
      },
      "outputs": [],
      "source": [
        "class Circle:\n",
        "    pi_value = 3.14159265\n",
        "\n",
        "    def __init__(self, radius):\n",
        "        self.radius = radius\n",
        "\n",
        "    def get_area(self):\n",
        "        return self.radius ** 2 * self.pi_value\n",
        "\n",
        "    # A esto se le conoce como decorador, que indica que la siguiente función\n",
        "    # debe ser tratada como un método de clase\n",
        "    @classmethod\n",
        "    def change_pi_value(cls, pi_value):\n",
        "        cls.pi_value = pi_value\n",
        "\n",
        "    # También podemos retornar objetos de esta misma clase\n",
        "    # 'cls' referencia a 'Circle'\n",
        "    @classmethod\n",
        "    def get_a_big_circle(cls):\n",
        "        return cls(10000) # => return Circle(10000)\n",
        "                          # Retorna una instancia de 'Circle' con radio 10000"
      ]
    },
    {
      "cell_type": "code",
      "execution_count": null,
      "metadata": {
        "id": "d-hGDesLB45Z",
        "outputId": "09c19a6d-3e74-429d-c8bb-4bf456e4c3d9"
      },
      "outputs": [
        {
          "data": {
            "text/plain": [
              "10000"
            ]
          },
          "execution_count": 10,
          "metadata": {},
          "output_type": "execute_result"
        }
      ],
      "source": [
        "big_circle = Circle.get_a_big_circle()\n",
        "big_circle.radius"
      ]
    },
    {
      "cell_type": "code",
      "execution_count": null,
      "metadata": {
        "id": "qGfgBd-qB45Z"
      },
      "outputs": [],
      "source": [
        "circle1 = Circle(10)\n",
        "circle2 = Circle(15)"
      ]
    },
    {
      "cell_type": "code",
      "execution_count": null,
      "metadata": {
        "id": "CsmjaTnIB45Z",
        "outputId": "9930a6ec-9d00-42ca-93f5-dcb31aba2908"
      },
      "outputs": [
        {
          "name": "stdout",
          "output_type": "stream",
          "text": [
            "314.159265\n",
            "706.8583462500001\n"
          ]
        }
      ],
      "source": [
        "print(circle1.get_area())\n",
        "print(circle2.get_area())"
      ]
    },
    {
      "cell_type": "code",
      "execution_count": null,
      "metadata": {
        "id": "iOrbYALAB45a",
        "outputId": "93f662a6-bcdd-4651-d35a-c9ae0ab69d20"
      },
      "outputs": [
        {
          "data": {
            "text/plain": [
              "mappingproxy({'__module__': '__main__',\n",
              "              'pi_value': 3.14159265,\n",
              "              '__init__': <function __main__.Circle.__init__(self, radius)>,\n",
              "              'get_area': <function __main__.Circle.get_area(self)>,\n",
              "              'change_pi_value': <classmethod(<function Circle.change_pi_value at 0x1099e9440>)>,\n",
              "              'get_a_big_circle': <classmethod(<function Circle.get_a_big_circle at 0x1099e9580>)>,\n",
              "              '__dict__': <attribute '__dict__' of 'Circle' objects>,\n",
              "              '__weakref__': <attribute '__weakref__' of 'Circle' objects>,\n",
              "              '__doc__': None})"
            ]
          },
          "execution_count": 13,
          "metadata": {},
          "output_type": "execute_result"
        }
      ],
      "source": [
        "Circle.__dict__"
      ]
    },
    {
      "cell_type": "markdown",
      "metadata": {
        "id": "EDjUSHEVB45a"
      },
      "source": [
        "Con este método de clase, podemos modificar atributos de clase. Podemos ver que se ha modificado en el namespace de `Circle`:"
      ]
    },
    {
      "cell_type": "code",
      "execution_count": null,
      "metadata": {
        "id": "mPSV8fFdB45a",
        "outputId": "14f6e876-67a3-4a41-e721-fa2a07c9df20"
      },
      "outputs": [
        {
          "data": {
            "text/plain": [
              "mappingproxy({'__module__': '__main__',\n",
              "              'pi_value': 2.71828,\n",
              "              '__init__': <function __main__.Circle.__init__(self, radius)>,\n",
              "              'get_area': <function __main__.Circle.get_area(self)>,\n",
              "              'change_pi_value': <classmethod(<function Circle.change_pi_value at 0x1099e9440>)>,\n",
              "              'get_a_big_circle': <classmethod(<function Circle.get_a_big_circle at 0x1099e9580>)>,\n",
              "              '__dict__': <attribute '__dict__' of 'Circle' objects>,\n",
              "              '__weakref__': <attribute '__weakref__' of 'Circle' objects>,\n",
              "              '__doc__': None})"
            ]
          },
          "execution_count": 14,
          "metadata": {},
          "output_type": "execute_result"
        }
      ],
      "source": [
        "# El método puede ser llamado desde la misma clase\n",
        "\n",
        "Circle.change_pi_value(2.71828)\n",
        "Circle.__dict__"
      ]
    },
    {
      "cell_type": "markdown",
      "metadata": {
        "id": "zDlhW4UcB45a"
      },
      "source": [
        "Si accedemos a `pi_value` desde las instancias `circle1` y `circle2`, como se encuentra en el namespace de `Circle` y no en el de las clases, el valor también se verá modificado:"
      ]
    },
    {
      "cell_type": "code",
      "execution_count": null,
      "metadata": {
        "id": "iR8b-CEYB45a",
        "outputId": "ae9cbe11-446b-4668-9c08-78bdfd7b13f6"
      },
      "outputs": [
        {
          "name": "stdout",
          "output_type": "stream",
          "text": [
            "2.71828\n",
            "2.71828\n"
          ]
        }
      ],
      "source": [
        "print(circle1.pi_value)\n",
        "print(circle2.pi_value)"
      ]
    },
    {
      "cell_type": "code",
      "execution_count": null,
      "metadata": {
        "id": "t1eUmyYjB45b",
        "outputId": "7c329484-195c-427a-9c3c-125a8b1472c8"
      },
      "outputs": [
        {
          "name": "stdout",
          "output_type": "stream",
          "text": [
            "271.828\n",
            "611.613\n"
          ]
        }
      ],
      "source": [
        "print(circle1.get_area())\n",
        "print(circle2.get_area())"
      ]
    },
    {
      "cell_type": "markdown",
      "metadata": {
        "id": "GSPw8UgSB45b"
      },
      "source": [
        "Si el método sería de instancia, los cambios no se verían realizados en todas las instancias (a menos de que se trate de un objeto mutable):"
      ]
    },
    {
      "cell_type": "code",
      "execution_count": null,
      "metadata": {
        "id": "WX-9lbp-B45b"
      },
      "outputs": [],
      "source": [
        "class Circle:\n",
        "    pi_value = 3.14159265\n",
        "\n",
        "    def __init__(self, radius):\n",
        "        self.radius = radius\n",
        "\n",
        "    def get_area(self):\n",
        "        return self.radius ** 2 * self.pi_value\n",
        "\n",
        "    # Como este método no tiene decorados @classmethod funcionará igual que un método de instancia\n",
        "    # y 'cls' apuntará a la instancia\n",
        "    def change_pi_value(cls, pi_value):\n",
        "        cls.pi_value = pi_value"
      ]
    },
    {
      "cell_type": "code",
      "execution_count": null,
      "metadata": {
        "id": "LC1eKr_sB45b"
      },
      "outputs": [],
      "source": [
        "circle1 = Circle(10)\n",
        "circle2 = Circle(15)"
      ]
    },
    {
      "cell_type": "code",
      "execution_count": null,
      "metadata": {
        "id": "IBW9JcFhB45c",
        "outputId": "83f8084f-f845-4731-d105-8b47f0c7682a"
      },
      "outputs": [
        {
          "name": "stdout",
          "output_type": "stream",
          "text": [
            "3.14159265\n",
            "3.14159265\n"
          ]
        }
      ],
      "source": [
        "print(circle1.pi_value)\n",
        "print(circle2.pi_value)"
      ]
    },
    {
      "cell_type": "code",
      "execution_count": null,
      "metadata": {
        "id": "SSRjG5GrB45d"
      },
      "outputs": [],
      "source": [
        "circle1.change_pi_value(2.71828)"
      ]
    },
    {
      "cell_type": "code",
      "execution_count": null,
      "metadata": {
        "id": "ujcb5HoAB45d",
        "outputId": "8c201724-f221-4f1e-b625-741cda932803"
      },
      "outputs": [
        {
          "name": "stdout",
          "output_type": "stream",
          "text": [
            "2.71828\n",
            "3.14159265\n"
          ]
        }
      ],
      "source": [
        "print(circle1.pi_value)\n",
        "print(circle2.pi_value)"
      ]
    },
    {
      "cell_type": "markdown",
      "metadata": {
        "id": "NjQmb7tIB45d"
      },
      "source": [
        "## 3. Métodos estáticos\n",
        "\n",
        "Los métodos estáticos no tienen como parámetros a `self` ni a `cls`, por lo que no podrá acceder a los atributos de la clase. Son una manera de hacer *namespace* a los métodos. Usaremos el decorador `@staticmethod` para definir un método estático."
      ]
    },
    {
      "cell_type": "code",
      "execution_count": null,
      "metadata": {
        "id": "ueq2i9pNB45d"
      },
      "outputs": [],
      "source": [
        "import math\n",
        "\n",
        "class Coordinates:\n",
        "    central_x = 0\n",
        "    central_y = 0\n",
        "\n",
        "    def __init__(self, x, y):\n",
        "        self.x = x\n",
        "        self.y = y\n",
        "\n",
        "    def move(self, dx, dy):\n",
        "        self.x += dx\n",
        "        self.y += dy\n",
        "\n",
        "    def show_position(self):\n",
        "        print('Posición actual: [X = ' + str(self.x) + ', Y = ' + str(self.y) + ']')\n",
        "        # Podemos usar el método estático en otros métodos\n",
        "        print('La distancia a la central es: ' + str(Coordinates.distance(self.x, self.y, self.central_x, self.central_y)))\n",
        "\n",
        "    def warning(self):\n",
        "        print('¡Estoy en zona peligrosa!')\n",
        "\n",
        "        # Podemos acceder a métodos de la clase\n",
        "        self.show_position()\n",
        "\n",
        "    # Método estático\n",
        "    # Calcula la distancia entre el punto (x1, y1) y (x2, y2)\n",
        "    @staticmethod\n",
        "    def distance(x1, y1, x2, y2):\n",
        "        return math.sqrt((x1-x2) ** 2 + (y1-y2) ** 2)"
      ]
    },
    {
      "cell_type": "code",
      "execution_count": null,
      "metadata": {
        "id": "L3Jv8c54B45d",
        "outputId": "a7dda065-129e-4d20-ac22-ce46987dfaf8"
      },
      "outputs": [
        {
          "name": "stdout",
          "output_type": "stream",
          "text": [
            "Posición actual: [X = 3, Y = 10]\n",
            "La distancia a la central es: 10.44030650891055\n"
          ]
        }
      ],
      "source": [
        "coordinates = Coordinates(3, 10)\n",
        "coordinates.show_position()"
      ]
    },
    {
      "cell_type": "code",
      "execution_count": null,
      "metadata": {
        "id": "ExgeT4CuB45d",
        "outputId": "309adc7a-f1e2-4367-e260-8dba00477010"
      },
      "outputs": [
        {
          "name": "stdout",
          "output_type": "stream",
          "text": [
            "¡Estoy en zona peligrosa!\n",
            "Posición actual: [X = 7, Y = 5]\n",
            "La distancia a la central es: 8.602325267042627\n"
          ]
        }
      ],
      "source": [
        "coordinates.move(4, -5)\n",
        "coordinates.warning()"
      ]
    },
    {
      "cell_type": "markdown",
      "source": [
        "# Ejercicio #\n",
        "\n",
        "## Cipher ##\n",
        "\n",
        "Debes construir una clase llamada Cipher con la finalidad de desencriptar mensajes nazis ocultos, por ejemplo:\n",
        "\n",
        "    Bgc-bfufb tegaedppqna ql aggv zge xof tegaedppfe'l lgjb.\n",
        "    Xof adpf vflqanfe logjbvn'x hf pdwqna d cgebv qn coqro xof tbdkfe ql mjlx d lpdbb tdex. Xof tbdkfe QL XOF HGLL; qx'l kgje vjxk xg fnxfexdqn oqp ge ofe.\n",
        "    Zgrjl ql d pdxxfe gz vfrqvqna codx xoqnal kgj def ngx agqna xg vg.\n",
        "    Xof rglx gz dvvqna d zfdxjef qln'x mjlx xof xqpf qx xdwfl xg rgvf qx. Xof rglx dblg qnrbjvfl xof dvvqxqgn gz dn ghlxdrbf xg zjxjef fstdnlqgn. Xof xeqrw ql xg tqrw xof zfdxjefl xodx vgn'x zqaox fdro gxofe. - Mgon Rdepdrw.\n",
        "\n",
        "    (ccc.adpdljxed.rgp/uqfc/nfcl/234346?utkjpvbjr)\n",
        "\n",
        "    (ccc.hedqnkijgxf.rgp/ijgxfl/djxogel/m/mgon_rdepdrw.oxpb)\n",
        "\n",
        "Se sabe que sólo se han encriptado las letras del alfabeto (a - z). Te ayudaremos con la frecuencia de apariciones de las letras\n",
        "en el mensaje desencriptado.\n",
        "\n",
        "    freq = \"TEOAISRHNUCMDLGWFPYKJBVQX\" # De mas frecuente a menos frecuente\n",
        "\n",
        "La clase que crees debe heredar de la siguiente interfaz:\n",
        "\n",
        "    class CipherBase:\n",
        "\n",
        "        def __init__(encrypt_message):\n",
        "            pass\n",
        "\n",
        "        def __decrypt():\n",
        "            pass\n",
        "\n",
        "        def print_decrypt_message():\n",
        "            #Recuerda mantener mayúsculas, espacios y saltos de línea.\n",
        "            pass\n",
        "\n",
        "        def __str__():\n",
        "            pass\n"
      ],
      "metadata": {
        "id": "BA79SOsiB69v"
      }
    },
    {
      "cell_type": "code",
      "source": [
        "class CipherBase:\n",
        "\n",
        "  def __init__(self, encrypt_message):\n",
        "    self.message_encrypted = encrypt_message\n",
        "    self.message = \"\"\n",
        "\n",
        "  def __decrypt(self):\n",
        "    letters = \"abcdefghijklmnopqrstuvwxyz\"\n",
        "    letters_dict = {}\n",
        "    for c in self.message_encrypted:\n",
        "      if 'a' <= c <= 'z':\n",
        "        if c in letters_dict:\n",
        "          letters_dict[c] += 1\n",
        "        else:\n",
        "          letters_dict[c] = 1\n",
        "    print(letters_dict)\n",
        "    letters = []\n",
        "    for k, v in letters_dict.items():\n",
        "      letters.append((k, v))\n",
        "    print(letters)\n",
        "    letters = sorted(letters, key=lambda t: -t[1])\n",
        "    print(letters)\n",
        "    str_letters = \"\"\n",
        "    for t in letters:\n",
        "      str_letters += t[0]\n",
        "    print(str_letters)\n",
        "    return self.__convert(Str_lettrs)\n",
        "\n",
        "  def __convert(self, letters_dict):\n",
        "    self.message_encrypted\n",
        "\n",
        "  def print_decrypt_message(self):\n",
        "    #Recuerda manetener mayúsculas, espacio y saltos de línea.\n",
        "    self.__decrypt()\n",
        "    print(self.message)\n",
        "\n",
        "  def __str__(self):\n",
        "    pass"
      ],
      "metadata": {
        "id": "x3_zpzrLCFEH"
      },
      "execution_count": 14,
      "outputs": []
    },
    {
      "cell_type": "code",
      "source": [
        "text = \"\"\"Bgc-bfufb tegaedppqna ql aggv zge xof tegaedppfe'l lgjb.\n",
        "Xof adpf vflqanfe logjbvn'x hf pdwqna d cgebv qn coqro xof tbdkfe ql mjlx d lpdbb tdex. Xof tbdkfe QL XOF HGLL; qx'l kgje vjxk xg fnxfexdqn oqp ge ofe.\n",
        "Zgrjl ql d pdxxfe gz vfrqvqna codx xoqnal kgj def ngx agqna xg vg.\n",
        "Xof rglx gz dvvqna d zfdxjef qln'x mjlx xof xqpf qx xdwfl xg rgvf qx. Xof rglx dblg qnrbjvfl xof dvvqxqgn gz dn ghlxdrbf xg zjxjef fstdnlqgn. Xof xeqrw ql xg tqrw xof zfdxjefl xodx vgn'x zqaox fdro gxofe. - Mgon Rdepdrw.\n",
        "\n",
        "(ccc.adpdljxed.rgp/uqfc/nfcl/234346?utkjpvbjr)\n",
        "\n",
        "(ccc.hedqnkijgxf.rgp/ijgxfl/djxogel/m/mgon_rdepdrw.oxpb)\"\"\"\n",
        "freq = \"TEOAISRHNUCMDLGWFPYKJBVQX\""
      ],
      "metadata": {
        "id": "UycQYiSTEPio"
      },
      "execution_count": 20,
      "outputs": []
    },
    {
      "cell_type": "code",
      "source": [
        "cipher = CipherBase(text, freq.lower())\n",
        "cipher._CipherBase__decrypt()"
      ],
      "metadata": {
        "id": "ygilQvQjEZEA",
        "outputId": "174984a9-aec6-44cb-aa2f-7f16c3f18a34",
        "colab": {
          "base_uri": "https://localhost:8080/",
          "height": 159
        }
      },
      "execution_count": 21,
      "outputs": [
        {
          "output_type": "error",
          "ename": "TypeError",
          "evalue": "CipherBase.__init__() takes 2 positional arguments but 3 were given",
          "traceback": [
            "\u001b[0;31m---------------------------------------------------------------------------\u001b[0m",
            "\u001b[0;31mTypeError\u001b[0m                                 Traceback (most recent call last)",
            "\u001b[0;32m<ipython-input-21-71acbce5b0bd>\u001b[0m in \u001b[0;36m<cell line: 1>\u001b[0;34m()\u001b[0m\n\u001b[0;32m----> 1\u001b[0;31m \u001b[0mcipher\u001b[0m \u001b[0;34m=\u001b[0m \u001b[0mCipherBase\u001b[0m\u001b[0;34m(\u001b[0m\u001b[0mtext\u001b[0m\u001b[0;34m,\u001b[0m \u001b[0mfreq\u001b[0m\u001b[0;34m.\u001b[0m\u001b[0mlower\u001b[0m\u001b[0;34m(\u001b[0m\u001b[0;34m)\u001b[0m\u001b[0;34m)\u001b[0m\u001b[0;34m\u001b[0m\u001b[0;34m\u001b[0m\u001b[0m\n\u001b[0m\u001b[1;32m      2\u001b[0m \u001b[0mcipher\u001b[0m\u001b[0;34m.\u001b[0m\u001b[0m_CipherBase__decrypt\u001b[0m\u001b[0;34m(\u001b[0m\u001b[0;34m)\u001b[0m\u001b[0;34m\u001b[0m\u001b[0;34m\u001b[0m\u001b[0m\n",
            "\u001b[0;31mTypeError\u001b[0m: CipherBase.__init__() takes 2 positional arguments but 3 were given"
          ]
        }
      ]
    }
  ],
  "metadata": {
    "kernelspec": {
      "display_name": "Python 3 (ipykernel)",
      "language": "python",
      "name": "python3"
    },
    "language_info": {
      "codemirror_mode": {
        "name": "ipython",
        "version": 3
      },
      "file_extension": ".py",
      "mimetype": "text/x-python",
      "name": "python",
      "nbconvert_exporter": "python",
      "pygments_lexer": "ipython3",
      "version": "3.11.7"
    },
    "colab": {
      "provenance": []
    }
  },
  "nbformat": 4,
  "nbformat_minor": 0
}